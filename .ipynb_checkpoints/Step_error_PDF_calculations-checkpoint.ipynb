{
 "cells": [
  {
   "cell_type": "code",
   "execution_count": 102,
   "metadata": {},
   "outputs": [],
   "source": [
    "from sympy import *\n",
    "from sympy.stats import Triangular, density\n",
    "from sympy.plotting import plot\n",
    "import matplotlib.pyplot as plt\n",
    "import numpy as np"
   ]
  },
  {
   "cell_type": "code",
   "execution_count": 196,
   "metadata": {},
   "outputs": [],
   "source": [
    "x = Symbol('x', real=True)"
   ]
  },
  {
   "cell_type": "code",
   "execution_count": 197,
   "metadata": {},
   "outputs": [],
   "source": [
    "h1 = Symbol('h1', real=True)\n",
    "T1 = Triangular('x', -h1, +h1, 0)\n",
    "\n",
    "h2 = Symbol('h2', real=True)\n",
    "T2 = Triangular('x', -h2, +h2, 0)"
   ]
  },
  {
   "cell_type": "code",
   "execution_count": 202,
   "metadata": {},
   "outputs": [
    {
     "data": {
      "text/plain": [
       "[<matplotlib.lines.Line2D at 0x7f031caa56d8>]"
      ]
     },
     "execution_count": 202,
     "metadata": {},
     "output_type": "execute_result"
    },
    {
     "data": {
      "image/png": "[encoded data removed]",
      "text/plain": [
       "<Figure size 432x288 with 1 Axes>"
      ]
     },
     "metadata": {
      "needs_background": "light"
     },
     "output_type": "display_data"
    }
   ],
   "source": [
    "T1_pdf = density(T1)(x)\n",
    "T2_pdf = density(T2)(x)\n",
    "T1_pdf = T1_pdf.subs(h2, 1)\n",
    "\n",
    "xrange = np.arange(-3, 3, 0.01)\n",
    "f = np.vectorize(lambdify(x, y_pdf))\n",
    "yrange = f(xrange)\n",
    "plt.plot(xrange, yrange)"
   ]
  },
  {
   "cell_type": "code",
   "execution_count": 199,
   "metadata": {},
   "outputs": [],
   "source": [
    "def convolve(f, g, x):\n",
    "    tau = Symbol('tau', real=True)\n",
    "    conv = integrate(f.subs(x, tau) * g.subs(x, x - tau), (tau, -oo, oo))\n",
    "    return(conv)"
   ]
  },
  {
   "cell_type": "code",
   "execution_count": 200,
   "metadata": {},
   "outputs": [
    {
     "data": {
      "text/plain": [
       "[<matplotlib.lines.Line2D at 0x7f031a8ca710>]"
      ]
     },
     "execution_count": 200,
     "metadata": {},
     "output_type": "execute_result"
    },
    {
     "data": {
      "image/png": "[encoded data removed]",
      "text/plain": [
       "<Figure size 432x288 with 1 Axes>"
      ]
     },
     "metadata": {
      "needs_background": "light"
     },
     "output_type": "display_data"
    }
   ],
   "source": [
    "k = convolve(density(y)(x).subs(h1, 1), density(z)(x).subs(h2,2), x)\n",
    "k_f = np.vectorize(lambdify(x, k))\n",
    "xr = np.arange(-3, 3, 0.01)\n",
    "yr = k_f(xr)\n",
    "plt.plot(xr, yr)"
   ]
  },
  {
   "cell_type": "code",
   "execution_count": 193,
   "metadata": {},
   "outputs": [
    {
     "data": {
      "text/plain": [
       "(-x + 1)*Min(Max(-1, x), Max(0, x - 2))**2/8 + (-x + 1)*Min(Max(-1, x - 2), Max(0, x), Max(0, x - 2))**2/8 + (-x + 3)*Max(-1, Min(x, Max(0, x - 2)))**2/8 + (x - 3)*Max(-1, x - 2)**2/8 + (x - 2)*Max(-1, x - 2)/4 - (x - 2)*Max(-1, Min(x, Max(0, x - 2)))/4 + (x - 2)*Min(Max(-1, x), Max(0, x - 2))/4 - (x - 2)*Min(Max(-1, x), Max(0, x - 2, Min(1, x)))/4 + (x - 2)*Min(Max(-1, x - 2), Max(0, x), Max(0, x - 2))/4 - (x - 2)*Min(Max(-1, x - 2), Max(0, x), Max(0, x - 2, Min(1, x)))/4 + (x - 1)*Min(Max(-1, x), Max(0, x - 2, Min(1, x)))**2/8 + (x - 1)*Min(Max(-1, x - 2), Max(0, x), Max(0, x - 2, Min(1, x)))**2/8 - (x + 1)*Max(-1, x)**2/8 + (x + 1)*Max(-1, x, Min(0, x + 2))**2/8 - (x + 2)*Max(-1, x)/4 - (x + 2)*Max(0, x)/4 + (x + 2)*Max(-1, x, Min(0, x + 2))/4 + (x + 2)*Max(0, x, Min(1, x + 2))/4 + (x + 2)*Min(Max(-1, x - 2), Max(0, x, Min(1, x + 2)))/4 - (x + 2)*Min(Max(-1, x - 2), Max(0, x))/4 + (x + 3)*Max(0, x)**2/8 - (x + 3)*Max(0, x, Min(1, x + 2))**2/8 - (x + 3)*Min(Max(-1, x - 2), Max(0, x, Min(1, x + 2)))**2/8 + (x + 3)*Min(Max(-1, x - 2), Max(0, x))**2/8 + Max(-1, x)**3/12 - Max(-1, x - 2)**3/12 + Max(-1, Min(x, Max(0, x - 2)))**3/12 - Max(0, x)**3/12 - Max(-1, x, Min(0, x + 2))**3/12 + Max(0, x, Min(1, x + 2))**3/12 + Min(Max(-1, x), Max(0, x - 2))**3/12 - Min(Max(-1, x), Max(0, x - 2, Min(1, x)))**3/12 + Min(Max(-1, x - 2), Max(0, x, Min(1, x + 2)))**3/12 - Min(Max(-1, x - 2), Max(0, x))**3/12 + Min(Max(-1, x - 2), Max(0, x), Max(0, x - 2))**3/12 - Min(Max(-1, x - 2), Max(0, x), Max(0, x - 2, Min(1, x)))**3/12"
      ]
     },
     "execution_count": 193,
     "metadata": {},
     "output_type": "execute_result"
    }
   ],
   "source": [
    "from sympy import refine, Q\n",
    "pred = Q.is_true(x<-2)\n",
    "simplify(refine(k, pred))"
   ]
  },
  {
   "cell_type": "code",
   "execution_count": null,
   "metadata": {},
   "outputs": [],
   "source": []
  }
 ],
 "metadata": {
  "kernelspec": {
   "display_name": "Python 3",
   "language": "python",
   "name": "python3"
  },
  "language_info": {
   "codemirror_mode": {
    "name": "ipython",
    "version": 3
   },
   "file_extension": ".py",
   "mimetype": "text/x-python",
   "name": "python",
   "nbconvert_exporter": "python",
   "pygments_lexer": "ipython3",
   "version": "3.6.8"
  }
 },
 "nbformat": 4,
 "nbformat_minor": 2
}
