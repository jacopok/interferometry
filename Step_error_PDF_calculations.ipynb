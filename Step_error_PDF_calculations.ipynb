{
 "cells": [
  {
   "cell_type": "code",
   "execution_count": 214,
   "metadata": {},
   "outputs": [],
   "source": [
    "from sympy import *\n",
    "from sympy.stats import Triangular, density\n",
    "from sympy.plotting import plot\n",
    "import matplotlib.pyplot as plt\n",
    "import numpy as np"
   ]
  },
  {
   "cell_type": "code",
   "execution_count": 215,
   "metadata": {},
   "outputs": [],
   "source": [
    "x = Symbol('x', real=True)"
   ]
  },
  {
   "cell_type": "code",
   "execution_count": 216,
   "metadata": {},
   "outputs": [],
   "source": [
    "h1 = Symbol('h1', real=True)\n",
    "T1 = Triangular('x', -h1, +h1, 0)\n",
    "\n",
    "h2 = Symbol('h2', real=True)\n",
    "T2 = Triangular('x', -h2, +h2, 0)"
   ]
  },
  {
   "cell_type": "code",
   "execution_count": 217,
   "metadata": {},
   "outputs": [
    {
     "data": {
      "text/plain": [
       "[<matplotlib.lines.Line2D at 0x7f0312e33780>]"
      ]
     },
     "execution_count": 217,
     "metadata": {},
     "output_type": "execute_result"
    },
    {
     "data": {
      "image/png": "[encoded data removed]",
      "text/plain": [
       "<Figure size 432x288 with 1 Axes>"
      ]
     },
     "metadata": {
      "needs_background": "light"
     },
     "output_type": "display_data"
    }
   ],
   "source": [
    "T1_pdf = density(T1)(x)\n",
    "T2_pdf = density(T2)(x)\n",
    "T1_pdf = T1_pdf.subs(h2, 1)\n",
    "\n",
    "xrange = np.arange(-3, 3, 0.01)\n",
    "f = np.vectorize(lambdify(x, y_pdf))\n",
    "yrange = f(xrange)\n",
    "plt.plot(xrange, yrange)"
   ]
  },
  {
   "cell_type": "code",
   "execution_count": 239,
   "metadata": {},
   "outputs": [],
   "source": [
    "def convolve(f, g, x):\n",
    "    tau = Symbol('tau', real=True)\n",
    "    conv = integrate(f.subs(x, tau) * g.subs(x, x - tau), (tau, -1000, 1000))\n",
    "    return(conv)"
   ]
  },
  {
   "cell_type": "code",
   "execution_count": 243,
   "metadata": {
    "scrolled": true
   },
   "outputs": [
    {
     "data": {
      "text/plain": [
       "<matplotlib.legend.Legend at 0x7f03121769b0>"
      ]
     },
     "execution_count": 243,
     "metadata": {},
     "output_type": "execute_result"
    },
    {
     "data": {
      "image/png": "[encoded data removed]",
      "text/plain": [
       "<Figure size 432x288 with 1 Axes>"
      ]
     },
     "metadata": {
      "needs_background": "light"
     },
     "output_type": "display_data"
    }
   ],
   "source": [
    "substituted_conv = convolve(T1_pdf.subs(h1, 1), T2_pdf.subs(h2,2), x)\n",
    "substituted_func = np.vectorize(lambdify(x, substituted_conv))\n",
    "\n",
    "analytic_conv = convolve(T1_pdf, T2_pdf, x)\n",
    "analytic_conv = analytic_conv.subs(h1, 1).subs(h2, 2)\n",
    "analytic_func = np.vectorize(lambdify(x, analytic_conv))\n",
    "\n",
    "xr = np.arange(-3, 3, 0.01)\n",
    "yr1 = substituted_func(xr)\n",
    "plt.plot(xr, yr1, label='subs')\n",
    "yr2 = analytic_func(xr)\n",
    "plt.plot(xr, yr2, label='analytic')\n",
    "plt.legend()"
   ]
  },
  {
   "cell_type": "code",
   "execution_count": 241,
   "metadata": {},
   "outputs": [
    {
     "name": "stdout",
     "output_type": "stream",
     "text": [
      "(1.0000000006074887, 8.76166403913698e-09)    (1.0000000006090208, 8.766027345996633e-09)\n"
     ]
    }
   ],
   "source": [
    "import scipy.integrate as spintegrate\n",
    "int1 = spintegrate.quad(substituted_func, -np.infty, np.infty)\n",
    "int2 = spintegrate.quad(analytic_func, -np.infty, np.infty)\n",
    "\n",
    "print(int1, '  ', int2)"
   ]
  },
  {
   "cell_type": "code",
   "execution_count": 193,
   "metadata": {},
   "outputs": [
    {
     "data": {
      "text/plain": [
       "(-x + 1)*Min(Max(-1, x), Max(0, x - 2))**2/8 + (-x + 1)*Min(Max(-1, x - 2), Max(0, x), Max(0, x - 2))**2/8 + (-x + 3)*Max(-1, Min(x, Max(0, x - 2)))**2/8 + (x - 3)*Max(-1, x - 2)**2/8 + (x - 2)*Max(-1, x - 2)/4 - (x - 2)*Max(-1, Min(x, Max(0, x - 2)))/4 + (x - 2)*Min(Max(-1, x), Max(0, x - 2))/4 - (x - 2)*Min(Max(-1, x), Max(0, x - 2, Min(1, x)))/4 + (x - 2)*Min(Max(-1, x - 2), Max(0, x), Max(0, x - 2))/4 - (x - 2)*Min(Max(-1, x - 2), Max(0, x), Max(0, x - 2, Min(1, x)))/4 + (x - 1)*Min(Max(-1, x), Max(0, x - 2, Min(1, x)))**2/8 + (x - 1)*Min(Max(-1, x - 2), Max(0, x), Max(0, x - 2, Min(1, x)))**2/8 - (x + 1)*Max(-1, x)**2/8 + (x + 1)*Max(-1, x, Min(0, x + 2))**2/8 - (x + 2)*Max(-1, x)/4 - (x + 2)*Max(0, x)/4 + (x + 2)*Max(-1, x, Min(0, x + 2))/4 + (x + 2)*Max(0, x, Min(1, x + 2))/4 + (x + 2)*Min(Max(-1, x - 2), Max(0, x, Min(1, x + 2)))/4 - (x + 2)*Min(Max(-1, x - 2), Max(0, x))/4 + (x + 3)*Max(0, x)**2/8 - (x + 3)*Max(0, x, Min(1, x + 2))**2/8 - (x + 3)*Min(Max(-1, x - 2), Max(0, x, Min(1, x + 2)))**2/8 + (x + 3)*Min(Max(-1, x - 2), Max(0, x))**2/8 + Max(-1, x)**3/12 - Max(-1, x - 2)**3/12 + Max(-1, Min(x, Max(0, x - 2)))**3/12 - Max(0, x)**3/12 - Max(-1, x, Min(0, x + 2))**3/12 + Max(0, x, Min(1, x + 2))**3/12 + Min(Max(-1, x), Max(0, x - 2))**3/12 - Min(Max(-1, x), Max(0, x - 2, Min(1, x)))**3/12 + Min(Max(-1, x - 2), Max(0, x, Min(1, x + 2)))**3/12 - Min(Max(-1, x - 2), Max(0, x))**3/12 + Min(Max(-1, x - 2), Max(0, x), Max(0, x - 2))**3/12 - Min(Max(-1, x - 2), Max(0, x), Max(0, x - 2, Min(1, x)))**3/12"
      ]
     },
     "execution_count": 193,
     "metadata": {},
     "output_type": "execute_result"
    }
   ],
   "source": [
    "from sympy import refine, Q\n",
    "pred = Q.is_true(x<-2)\n",
    "simplify(refine(k, pred))"
   ]
  },
  {
   "cell_type": "code",
   "execution_count": 242,
   "metadata": {},
   "outputs": [
    {
     "data": {
      "text/plain": [
       "(-x - 3)*Min(1000, Max(-1, Min(Max(-1000, x - 2), Max(0, x, Min(1, x + 2)))))**2/8 - (-x - 3)*Min(1000, Max(-1, Min(Max(-1000, x - 2), Max(0, x))))**2/8 - (-x - 3)*Min(1000, Max(0, x))**2/8 - (-x - 3)*Min(1000, Max(-1, x, Min(0, Max(-1000, x + 2))))**2/8 + (-x - 3)*Min(1000, Max(-1, x, Min(Max(0, Min(1, x + 2)), Max(-1000, x - 2, Min(0, x + 2)))))**2/8 + (-x - 3)*Min(1000, Max(0, x, Min(1, x + 2)))**2/8 + (-x - 3)*Min(1000, Max(-1, x - 2), Max(0, x, Min(1, x + 2)))**2/8 - (-x - 3)*Min(1000, Max(-1, x - 2), Max(0, x))**2/8 - (-x + 2)*Min(1000, Max(-1, x - 2))/4 + (-x + 2)*Min(1000, Max(-1, Min(x, Max(0, x - 2))))/4 - (-x + 2)*Min(1000, Max(-1, Min(Max(-1000, x), Max(0, x - 2))))/4 + (-x + 2)*Min(1000, Max(-1, Min(Max(-1000, x), Max(0, x - 2, Min(1, x)))))/4 - (-x + 2)*Min(1000, Max(-1, Min(Max(-1000, x - 2), Max(0, x), Max(0, x - 2))))/4 + (-x + 2)*Min(1000, Max(-1, Min(Max(-1000, x - 2), Max(0, x), Max(0, x - 2, Min(1, x)))))/4 + (-x + 2)*Min(1000, Max(-1, x, Min(0, x + 2)))/4 - (-x + 2)*Min(1000, Max(-1, x, Min(0, Max(-1000, x + 2))))/4 - (-x + 2)*Min(1000, Max(-1, x - 2), Max(0, x), Max(0, x - 2))/4 + (-x + 2)*Min(1000, Max(-1, x - 2), Max(0, x), Max(0, x - 2, Min(1, x)))/4 - (-x + 3)*Min(1000, Max(-1, x - 2))**2/8 + (-x + 3)*Min(1000, Max(-1, Min(x, Max(0, x - 2))))**2/8 - (x - 1)*Min(1000, Max(-1, Min(Max(-1000, x), Max(0, x - 2))))**2/8 + (x - 1)*Min(1000, Max(-1, Min(Max(-1000, x), Max(0, x - 2, Min(1, x)))))**2/8 - (x - 1)*Min(1000, Max(-1, Min(Max(-1000, x - 2), Max(0, x), Max(0, x - 2))))**2/8 + (x - 1)*Min(1000, Max(-1, Min(Max(-1000, x - 2), Max(0, x), Max(0, x - 2, Min(1, x)))))**2/8 + (x - 1)*Min(1000, Max(-1, x, Min(0, x + 2)))**2/8 - (x - 1)*Min(1000, Max(-1, x, Min(0, Max(-1000, x + 2))))**2/8 - (x - 1)*Min(1000, Max(-1, x - 2), Max(0, x), Max(0, x - 2))**2/8 + (x - 1)*Min(1000, Max(-1, x - 2), Max(0, x), Max(0, x - 2, Min(1, x)))**2/8 - (x + 1)*Min(1000, Max(-1, x))**2/8 + (x + 1)*Min(1000, Max(-1, x, Min(0, x + 2)))**2/8 - (x + 2)*Min(1000, Max(-1, x))/4 + (x + 2)*Min(1000, Max(-1, Min(Max(-1000, x - 2), Max(0, x, Min(1, x + 2)))))/4 - (x + 2)*Min(1000, Max(-1, Min(Max(-1000, x - 2), Max(0, x))))/4 - (x + 2)*Min(1000, Max(0, x))/4 + (x + 2)*Min(1000, Max(-1, x, Min(0, x + 2)))/4 - (x + 2)*Min(1000, Max(-1, x, Min(0, Max(-1000, x + 2))))/4 + (x + 2)*Min(1000, Max(-1, x, Min(Max(0, Min(1, x + 2)), Max(-1000, x - 2, Min(0, x + 2)))))/4 + (x + 2)*Min(1000, Max(0, x, Min(1, x + 2)))/4 + (x + 2)*Min(1000, Max(-1, x - 2), Max(0, x, Min(1, x + 2)))/4 - (x + 2)*Min(1000, Max(-1, x - 2), Max(0, x))/4 + Min(1000, Max(-1, x))**3/12 - Min(1000, Max(-1, x - 2))**3/12 + Min(1000, Max(-1, Min(x, Max(0, x - 2))))**3/12 + Min(1000, Max(-1, Min(Max(-1000, x), Max(0, x - 2))))**3/12 - Min(1000, Max(-1, Min(Max(-1000, x), Max(0, x - 2, Min(1, x)))))**3/12 + Min(1000, Max(-1, Min(Max(-1000, x - 2), Max(0, x, Min(1, x + 2)))))**3/12 - Min(1000, Max(-1, Min(Max(-1000, x - 2), Max(0, x))))**3/12 + Min(1000, Max(-1, Min(Max(-1000, x - 2), Max(0, x), Max(0, x - 2))))**3/12 - Min(1000, Max(-1, Min(Max(-1000, x - 2), Max(0, x), Max(0, x - 2, Min(1, x)))))**3/12 - Min(1000, Max(0, x))**3/12 - Min(1000, Max(-1, x, Min(0, x + 2)))**3/6 + Min(1000, Max(-1, x, Min(Max(0, Min(1, x + 2)), Max(-1000, x - 2, Min(0, x + 2)))))**3/12 + Min(1000, Max(0, x, Min(1, x + 2)))**3/12 + Min(1000, Max(-1, x - 2), Max(0, x, Min(1, x + 2)))**3/12 - Min(1000, Max(-1, x - 2), Max(0, x))**3/12 + Min(1000, Max(-1, x - 2), Max(0, x), Max(0, x - 2))**3/12 - Min(1000, Max(-1, x - 2), Max(0, x), Max(0, x - 2, Min(1, x)))**3/12"
      ]
     },
     "execution_count": 242,
     "metadata": {},
     "output_type": "execute_result"
    }
   ],
   "source": [
    "analytic_conv"
   ]
  },
  {
   "cell_type": "code",
   "execution_count": null,
   "metadata": {},
   "outputs": [],
   "source": []
  }
 ],
 "metadata": {
  "kernelspec": {
   "display_name": "Python 3",
   "language": "python",
   "name": "python3"
  },
  "language_info": {
   "codemirror_mode": {
    "name": "ipython",
    "version": 3
   },
   "file_extension": ".py",
   "mimetype": "text/x-python",
   "name": "python",
   "nbconvert_exporter": "python",
   "pygments_lexer": "ipython3",
   "version": "3.6.8"
  }
 },
 "nbformat": 4,
 "nbformat_minor": 2
}
